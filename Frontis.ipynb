{
 "cells": [
  {
   "cell_type": "code",
   "execution_count": 8,
   "id": "b81de564",
   "metadata": {
    "scrolled": true
   },
   "outputs": [
    {
     "name": "stdout",
     "output_type": "stream",
     "text": [
      "Insert string:HELLO\n",
      "H\n",
      "EH\n",
      "LEH\n",
      "LLEH\n",
      "OLLEH\n"
     ]
    }
   ],
   "source": [
    "text = input(\"Insert string:\")\n",
    "s1=''\n",
    "for s in text:\n",
    "    s1 = s+s1\n",
    "    print(s1)"
   ]
  },
  {
   "cell_type": "code",
   "execution_count": 41,
   "id": "3bc3bde3",
   "metadata": {},
   "outputs": [
    {
     "name": "stdout",
     "output_type": "stream",
     "text": [
      "5\n",
      "0 1 1 2 3 "
     ]
    }
   ],
   "source": [
    "n = int(input())\n",
    "if n <= 0:\n",
    "    print(0)\n",
    "elif n == 1:\n",
    "    print(0)\n",
    "else:\n",
    "    a,b=0,1\n",
    "    count = 0\n",
    "    while count < n:\n",
    "        print(a,end=\" \")\n",
    "        c = a+b\n",
    "        a=b\n",
    "        b=c\n",
    "        count+=1"
   ]
  },
  {
   "cell_type": "code",
   "execution_count": 70,
   "id": "7c92d7fa",
   "metadata": {},
   "outputs": [
    {
     "name": "stdout",
     "output_type": "stream",
     "text": [
      "5\n",
      "* - - - * \n",
      "- * - * - \n",
      "- - * - - \n",
      "- * - * - \n",
      "* - - - * \n"
     ]
    }
   ],
   "source": [
    "n = int(input())\n",
    "a = [['-'] * n for i in range(n)]\n",
    "for i in range(n):\n",
    "    for j in range(n):\n",
    "        if i == j :\n",
    "            a[i][j] = \"*\"\n",
    "        elif j == (n-1)-i:\n",
    "            a[i][j] = \"*\"\n",
    "        print(a[i][j],end=\" \")\n",
    "    print()"
   ]
  },
  {
   "cell_type": "code",
   "execution_count": 205,
   "id": "2a20f4c0",
   "metadata": {},
   "outputs": [
    {
     "name": "stdout",
     "output_type": "stream",
     "text": [
      "input number of A:5\n",
      "input number of B:3\n",
      "ABBAABAA\n"
     ]
    }
   ],
   "source": [
    "import random\n",
    "\n",
    "numa = int(input(\"input number of A:\"))\n",
    "numb = int(input(\"input number of B:\"))\n",
    "a = ['A'*1 for w in range(1,numa+1) ]\n",
    "b = ['B'*1 for w in range(1,numb+1) ]\n",
    "c = a+b\n",
    "d= ''.join(random.sample(c, len(c)))\n",
    "if 'AAA' in d or 'BBB' in d :\n",
    "    print(\"Error\")\n",
    "else:\n",
    "    print(d)"
   ]
  }
 ],
 "metadata": {
  "kernelspec": {
   "display_name": "Python 3 (ipykernel)",
   "language": "python",
   "name": "python3"
  },
  "language_info": {
   "codemirror_mode": {
    "name": "ipython",
    "version": 3
   },
   "file_extension": ".py",
   "mimetype": "text/x-python",
   "name": "python",
   "nbconvert_exporter": "python",
   "pygments_lexer": "ipython3",
   "version": "3.9.13"
  }
 },
 "nbformat": 4,
 "nbformat_minor": 5
}
